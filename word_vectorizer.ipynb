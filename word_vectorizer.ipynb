{
 "cells": [
  {
   "cell_type": "code",
   "execution_count": 8,
   "id": "81862d5e-1ba3-42a1-a660-5e6108b7ae59",
   "metadata": {},
   "outputs": [
    {
     "name": "stdout",
     "output_type": "stream",
     "text": [
      "3455\n"
     ]
    }
   ],
   "source": [
    "import json\n",
    "from sklearn.feature_extraction.text import TfidfVectorizer\n",
    "\n",
    "documents = []\n",
    "\n",
    "with open('./data/long_data.json') as f:\n",
    "    card_array = json.load(f)\n",
    "    for card in card_array:\n",
    "        oracle_text = card.get('oracle_text')\n",
    "        if oracle_text and oracle_text.lower:\n",
    "            documents.append(oracle_text.lower())\n",
    "\n",
    "# create the transform\n",
    "vectorizer = TfidfVectorizer()\n",
    "# tokenize and build vocab\n",
    "vectorizer.fit_transform(documents)\n",
    "\n",
    "print(vectorizer.vocabulary_.get(u'exile'))\n",
    "\n",
    "# summarize\n",
    "# print('vocabulary: ', vectorizer.vocabulary_)\n",
    "# print('idfs: ', vectorizer.idf_)\n"
   ]
  },
  {
   "cell_type": "code",
   "execution_count": null,
   "id": "47508fa3-738c-4cb2-811a-897765eb7fc6",
   "metadata": {},
   "outputs": [],
   "source": []
  }
 ],
 "metadata": {
  "kernelspec": {
   "display_name": "Python 3 (ipykernel)",
   "language": "python",
   "name": "python3"
  },
  "language_info": {
   "codemirror_mode": {
    "name": "ipython",
    "version": 3
   },
   "file_extension": ".py",
   "mimetype": "text/x-python",
   "name": "python",
   "nbconvert_exporter": "python",
   "pygments_lexer": "ipython3",
   "version": "3.10.6"
  }
 },
 "nbformat": 4,
 "nbformat_minor": 5
}
