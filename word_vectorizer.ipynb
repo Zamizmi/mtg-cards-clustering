{
 "cells": [
  {
   "cell_type": "code",
   "execution_count": 26,
   "id": "81862d5e-1ba3-42a1-a660-5e6108b7ae59",
   "metadata": {},
   "outputs": [
    {
     "ename": "AttributeError",
     "evalue": "'NoneType' object has no attribute 'lower'",
     "output_type": "error",
     "traceback": [
      "\u001b[0;31m---------------------------------------------------------------------------\u001b[0m",
      "\u001b[0;31mAttributeError\u001b[0m                            Traceback (most recent call last)",
      "Cell \u001b[0;32mIn [26], line 10\u001b[0m\n\u001b[1;32m      8\u001b[0m     \u001b[38;5;28;01mfor\u001b[39;00m card \u001b[38;5;129;01min\u001b[39;00m card_array:\n\u001b[1;32m      9\u001b[0m         oracle_text \u001b[38;5;241m=\u001b[39m card\u001b[38;5;241m.\u001b[39mget(\u001b[38;5;124m'\u001b[39m\u001b[38;5;124moracle_text\u001b[39m\u001b[38;5;124m'\u001b[39m)\n\u001b[0;32m---> 10\u001b[0m         documents\u001b[38;5;241m.\u001b[39mappend(\u001b[43moracle_text\u001b[49m\u001b[38;5;241;43m.\u001b[39;49m\u001b[43mlower\u001b[49m())\n\u001b[1;32m     12\u001b[0m \u001b[38;5;66;03m# create the transform\u001b[39;00m\n\u001b[1;32m     13\u001b[0m vectorizer \u001b[38;5;241m=\u001b[39m TfidfVectorizer()\n",
      "\u001b[0;31mAttributeError\u001b[0m: 'NoneType' object has no attribute 'lower'"
     ]
    }
   ],
   "source": [
    "import json\n",
    "from sklearn.feature_extraction.text import TfidfVectorizer\n",
    "\n",
    "documents = []\n",
    "\n",
    "with open('./data/long_data.json') as f:\n",
    "    card_array = json.load(f)\n",
    "    for card in card_array:\n",
    "        oracle_text = card.get('oracle_text')\n",
    "        if oracle_text and oracle_text.lower:\n",
    "            documents.append(oracle_text.lower())\n",
    "\n",
    "# create the transform\n",
    "vectorizer = TfidfVectorizer()\n",
    "# tokenize and build vocab\n",
    "vectorizer.fit(documents)\n",
    "\n",
    "# summarize\n",
    "print('vocabulary: ', vectorizer.vocabulary_)\n",
    "print('idfs: ', vectorizer.idf_)\n"
   ]
  },
  {
   "cell_type": "code",
   "execution_count": null,
   "id": "47508fa3-738c-4cb2-811a-897765eb7fc6",
   "metadata": {},
   "outputs": [],
   "source": []
  }
 ],
 "metadata": {
  "kernelspec": {
   "display_name": "Python 3 (ipykernel)",
   "language": "python",
   "name": "python3"
  },
  "language_info": {
   "codemirror_mode": {
    "name": "ipython",
    "version": 3
   },
   "file_extension": ".py",
   "mimetype": "text/x-python",
   "name": "python",
   "nbconvert_exporter": "python",
   "pygments_lexer": "ipython3",
   "version": "3.10.6"
  }
 },
 "nbformat": 4,
 "nbformat_minor": 5
}
